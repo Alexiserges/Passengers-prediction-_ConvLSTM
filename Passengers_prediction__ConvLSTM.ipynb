{
  "nbformat": 4,
  "nbformat_minor": 0,
  "metadata": {
    "colab": {
      "provenance": [],
      "authorship_tag": "ABX9TyMoNncCGq6klR5WE6sBEcu6",
      "include_colab_link": true
    },
    "kernelspec": {
      "name": "python3",
      "display_name": "Python 3"
    },
    "language_info": {
      "name": "python"
    }
  },
  "cells": [
    {
      "cell_type": "markdown",
      "metadata": {
        "id": "view-in-github",
        "colab_type": "text"
      },
      "source": [
        "<a href=\"https://colab.research.google.com/github/Alexiserges/Passengers-prediction-_ConvLSTM/blob/main/Passengers_prediction__ConvLSTM.ipynb\" target=\"_parent\"><img src=\"https://colab.research.google.com/assets/colab-badge.svg\" alt=\"Open In Colab\"/></a>"
      ]
    },
    {
      "cell_type": "markdown",
      "source": [
        "International Airline Passengers prediction problem.\n",
        "This is a problem where, given a year and a month, the Objective is to predict \n",
        "the number of international airline passengers in units of 1,000 using ConvLSTM model. \n",
        "The data ranges from January 1949 to December 1960, or 12 years, with 144 observations."
      ],
      "metadata": {
        "id": "LwJLP4fn1-HI"
      }
    },
    {
      "cell_type": "code",
      "execution_count": 1,
      "metadata": {
        "id": "oJVQ_eY41jY7"
      },
      "outputs": [],
      "source": [
        "##Let import the library\n",
        "\n",
        "import numpy as np\n",
        "import matplotlib.pyplot as plt\n",
        "from pandas import read_csv\n",
        "import math\n",
        "\n",
        "from keras.models import Sequential\n",
        "from keras.layers import Dense\n",
        "from keras.layers import LSTM, Flatten\n",
        "from sklearn.preprocessing import MinMaxScaler\n",
        "from sklearn.metrics import mean_squared_error\n",
        "#from keras.callbacks import EarlyStopping\n",
        "from keras.layers import ConvLSTM2D"
      ]
    },
    {
      "cell_type": "code",
      "source": [
        "# load the dataset\n",
        "dataframe = read_csv('AirPassengers.csv', usecols=[1])\n",
        "plt.plot(dataframe)"
      ],
      "metadata": {
        "colab": {
          "base_uri": "https://localhost:8080/",
          "height": 282
        },
        "id": "T0aunYYG2tuQ",
        "outputId": "ff8ad24a-05a7-4d9e-f4d6-67d96e08cea6"
      },
      "execution_count": 3,
      "outputs": [
        {
          "output_type": "execute_result",
          "data": {
            "text/plain": [
              "[<matplotlib.lines.Line2D at 0x7f28d8729df0>]"
            ]
          },
          "metadata": {},
          "execution_count": 3
        },
        {
          "output_type": "display_data",
          "data": {
            "text/plain": [
              "<Figure size 432x288 with 1 Axes>"
            ],
            "image/png": "[encoded data removed]"
          },
          "metadata": {
            "needs_background": "light"
          }
        }
      ]
    },
    {
      "cell_type": "code",
      "source": [
        "#Convert pandas dataframe to numpy array\n",
        "dataset = dataframe.values\n",
        "dataset = dataset.astype('float32') #COnvert values to float"
      ],
      "metadata": {
        "id": "qEDzZN802tqF"
      },
      "execution_count": 5,
      "outputs": []
    },
    {
      "cell_type": "code",
      "source": [
        "#LSTM uses sigmoid and tanh that are sensitive to magnitude so values need to be normalized\n",
        "# normalize the dataset\n",
        "scaler = MinMaxScaler(feature_range=(0, 1)) #Also try QuantileTransformer\n",
        "dataset = scaler.fit_transform(dataset)"
      ],
      "metadata": {
        "id": "5xbLQVtG2tnF"
      },
      "execution_count": 6,
      "outputs": []
    },
    {
      "cell_type": "code",
      "source": [
        "#We cannot use random way of splitting dataset into train and test as\n",
        "#the sequence of events is important for time series.\n",
        "#So let us take first 70% values for train and the remaining 1/3 for testing\n",
        "# split into train and test sets\n",
        "train_size = int(len(dataset) * 0.70)\n",
        "test_size = len(dataset) - train_size\n",
        "train, test = dataset[0:train_size,:], dataset[train_size:len(dataset),:]"
      ],
      "metadata": {
        "id": "0eafS5oh2tj2"
      },
      "execution_count": 7,
      "outputs": []
    },
    {
      "cell_type": "markdown",
      "source": [
        "#####We cannot fit the model like we normally do for image processing where we have X and Y. \n",
        "#####We need to transform our data into something that looks like X and Y values.\n",
        "#####This way it can be trained on a sequence rather than indvidual datapoints. \n",
        "#####Let us convert into n number of columns for X where we feed sequence of numbers then the final column as Y where we provide the next number in the sequence as output.\n",
        "#####So let us convert an array of values into a dataset matrix"
      ],
      "metadata": {
        "id": "99J8IBNc39-8"
      }
    },
    {
      "cell_type": "markdown",
      "source": [
        "#####seq_size is the number of previous time steps to use as \n",
        "#####input variables to predict the next time period.\n",
        "\n",
        "\n",
        "#####creates a dataset where X is the number of passengers at a given time (t, t-1, t-2...) \n",
        "#####and Y is the number of passengers at the next time (t + 1)."
      ],
      "metadata": {
        "id": "9PHC9IrO4m5Q"
      }
    },
    {
      "cell_type": "code",
      "source": [
        "def to_sequences(dataset, seq_size=1):\n",
        "    x = []\n",
        "    y = []\n",
        "\n",
        "    for i in range(len(dataset)-seq_size-1):\n",
        "        #print(i)\n",
        "        window = dataset[i:(i+seq_size), 0]\n",
        "        x.append(window)\n",
        "        y.append(dataset[i+seq_size, 0])\n",
        "        \n",
        "    return np.array(x),np.array(y)"
      ],
      "metadata": {
        "id": "bQjaoLjA2tgh"
      },
      "execution_count": 8,
      "outputs": []
    },
    {
      "cell_type": "code",
      "source": [
        "seq_size = 10  # Number of time steps to look back \n",
        "#Larger sequences (look further back) may improve forecasting."
      ],
      "metadata": {
        "id": "9QRFSkNj2tc6"
      },
      "execution_count": 9,
      "outputs": []
    },
    {
      "cell_type": "code",
      "source": [
        "trainX, trainY = to_sequences(train, seq_size)\n",
        "testX, testY = to_sequences(test, seq_size)"
      ],
      "metadata": {
        "id": "DDMzyFQ05EBT"
      },
      "execution_count": 10,
      "outputs": []
    },
    {
      "cell_type": "code",
      "source": [
        "print(\"Shape of training set: {}\".format(trainX.shape))\n",
        "print(\"Shape of test set: {}\".format(testX.shape))"
      ],
      "metadata": {
        "colab": {
          "base_uri": "https://localhost:8080/"
        },
        "id": "-CuCl8oL5D-E",
        "outputId": "a8d393cb-d9a0-47d8-d366-cc9001d5c991"
      },
      "execution_count": 11,
      "outputs": [
        {
          "output_type": "stream",
          "name": "stdout",
          "text": [
            "Shape of training set: (89, 10)\n",
            "Shape of test set: (33, 10)\n"
          ]
        }
      ]
    },
    {
      "cell_type": "markdown",
      "source": [
        "#ConvLSTM\n",
        "#The layer expects input as a sequence of two-dimensional images, \n",
        "#therefore the shape of input data must be: [samples, timesteps, rows, columns, features]"
      ],
      "metadata": {
        "id": "1fDZjqSD5tlI"
      }
    },
    {
      "cell_type": "code",
      "source": [
        "\n",
        "trainX = trainX.reshape((trainX.shape[0], 1, 1, 1, seq_size))\n",
        "testX = testX.reshape((testX.shape[0], 1, 1, 1, seq_size))"
      ],
      "metadata": {
        "id": "fDfUmuy65D7A"
      },
      "execution_count": 12,
      "outputs": []
    },
    {
      "cell_type": "code",
      "source": [
        "model = Sequential()\n",
        "model.add(ConvLSTM2D(filters=64, kernel_size=(1,1), activation='relu', input_shape=(1, 1, 1, seq_size)))\n",
        "model.add(Flatten())\n",
        "model.add(Dense(32))\n",
        "model.add(Dense(1))\n",
        "model.compile(optimizer='adam', loss='mean_squared_error')\n",
        "model.summary()"
      ],
      "metadata": {
        "colab": {
          "base_uri": "https://localhost:8080/"
        },
        "id": "G9WNm53y5D35",
        "outputId": "b56b2f21-e23d-4305-ae20-10bc40729253"
      },
      "execution_count": 13,
      "outputs": [
        {
          "output_type": "stream",
          "name": "stdout",
          "text": [
            "Model: \"sequential\"\n",
            "_________________________________________________________________\n",
            " Layer (type)                Output Shape              Param #   \n",
            "=================================================================\n",
            " conv_lstm2d (ConvLSTM2D)    (None, 1, 1, 64)          19200     \n",
            "                                                                 \n",
            " flatten (Flatten)           (None, 64)                0         \n",
            "                                                                 \n",
            " dense (Dense)               (None, 32)                2080      \n",
            "                                                                 \n",
            " dense_1 (Dense)             (None, 1)                 33        \n",
            "                                                                 \n",
            "=================================================================\n",
            "Total params: 21,313\n",
            "Trainable params: 21,313\n",
            "Non-trainable params: 0\n",
            "_________________________________________________________________\n"
          ]
        }
      ]
    },
    {
      "cell_type": "code",
      "source": [
        "model.fit(trainX, trainY, validation_data=(testX, testY),\n",
        "          verbose=2, epochs=100)"
      ],
      "metadata": {
        "colab": {
          "base_uri": "https://localhost:8080/"
        },
        "id": "vKt92uVo5D0i",
        "outputId": "0879cef5-4c11-4f66-d49a-d719320cb74f"
      },
      "execution_count": 14,
      "outputs": [
        {
          "output_type": "stream",
          "name": "stdout",
          "text": [
            "Epoch 1/100\n",
            "3/3 - 3s - loss: 0.0758 - val_loss: 0.3776 - 3s/epoch - 1s/step\n",
            "Epoch 2/100\n",
            "3/3 - 0s - loss: 0.0539 - val_loss: 0.2805 - 35ms/epoch - 12ms/step\n",
            "Epoch 3/100\n",
            "3/3 - 0s - loss: 0.0341 - val_loss: 0.1972 - 44ms/epoch - 15ms/step\n",
            "Epoch 4/100\n",
            "3/3 - 0s - loss: 0.0202 - val_loss: 0.1283 - 39ms/epoch - 13ms/step\n",
            "Epoch 5/100\n",
            "3/3 - 0s - loss: 0.0122 - val_loss: 0.0760 - 38ms/epoch - 13ms/step\n",
            "Epoch 6/100\n",
            "3/3 - 0s - loss: 0.0087 - val_loss: 0.0438 - 40ms/epoch - 13ms/step\n",
            "Epoch 7/100\n",
            "3/3 - 0s - loss: 0.0095 - val_loss: 0.0294 - 39ms/epoch - 13ms/step\n",
            "Epoch 8/100\n",
            "3/3 - 0s - loss: 0.0112 - val_loss: 0.0255 - 40ms/epoch - 13ms/step\n",
            "Epoch 9/100\n",
            "3/3 - 0s - loss: 0.0112 - val_loss: 0.0267 - 51ms/epoch - 17ms/step\n",
            "Epoch 10/100\n",
            "3/3 - 0s - loss: 0.0099 - val_loss: 0.0312 - 39ms/epoch - 13ms/step\n",
            "Epoch 11/100\n",
            "3/3 - 0s - loss: 0.0083 - val_loss: 0.0386 - 37ms/epoch - 12ms/step\n",
            "Epoch 12/100\n",
            "3/3 - 0s - loss: 0.0073 - val_loss: 0.0461 - 40ms/epoch - 13ms/step\n",
            "Epoch 13/100\n",
            "3/3 - 0s - loss: 0.0070 - val_loss: 0.0515 - 40ms/epoch - 13ms/step\n",
            "Epoch 14/100\n",
            "3/3 - 0s - loss: 0.0070 - val_loss: 0.0532 - 39ms/epoch - 13ms/step\n",
            "Epoch 15/100\n",
            "3/3 - 0s - loss: 0.0069 - val_loss: 0.0511 - 43ms/epoch - 14ms/step\n",
            "Epoch 16/100\n",
            "3/3 - 0s - loss: 0.0067 - val_loss: 0.0455 - 38ms/epoch - 13ms/step\n",
            "Epoch 17/100\n",
            "3/3 - 0s - loss: 0.0064 - val_loss: 0.0383 - 39ms/epoch - 13ms/step\n",
            "Epoch 18/100\n",
            "3/3 - 0s - loss: 0.0059 - val_loss: 0.0324 - 37ms/epoch - 12ms/step\n",
            "Epoch 19/100\n",
            "3/3 - 0s - loss: 0.0055 - val_loss: 0.0284 - 37ms/epoch - 12ms/step\n",
            "Epoch 20/100\n",
            "3/3 - 0s - loss: 0.0054 - val_loss: 0.0251 - 43ms/epoch - 14ms/step\n",
            "Epoch 21/100\n",
            "3/3 - 0s - loss: 0.0052 - val_loss: 0.0236 - 41ms/epoch - 14ms/step\n",
            "Epoch 22/100\n",
            "3/3 - 0s - loss: 0.0050 - val_loss: 0.0227 - 40ms/epoch - 13ms/step\n",
            "Epoch 23/100\n",
            "3/3 - 0s - loss: 0.0048 - val_loss: 0.0220 - 36ms/epoch - 12ms/step\n",
            "Epoch 24/100\n",
            "3/3 - 0s - loss: 0.0047 - val_loss: 0.0216 - 45ms/epoch - 15ms/step\n",
            "Epoch 25/100\n",
            "3/3 - 0s - loss: 0.0045 - val_loss: 0.0209 - 38ms/epoch - 13ms/step\n",
            "Epoch 26/100\n",
            "3/3 - 0s - loss: 0.0044 - val_loss: 0.0203 - 40ms/epoch - 13ms/step\n",
            "Epoch 27/100\n",
            "3/3 - 0s - loss: 0.0042 - val_loss: 0.0196 - 39ms/epoch - 13ms/step\n",
            "Epoch 28/100\n",
            "3/3 - 0s - loss: 0.0042 - val_loss: 0.0189 - 39ms/epoch - 13ms/step\n",
            "Epoch 29/100\n",
            "3/3 - 0s - loss: 0.0041 - val_loss: 0.0184 - 37ms/epoch - 12ms/step\n",
            "Epoch 30/100\n",
            "3/3 - 0s - loss: 0.0040 - val_loss: 0.0180 - 41ms/epoch - 14ms/step\n",
            "Epoch 31/100\n",
            "3/3 - 0s - loss: 0.0039 - val_loss: 0.0177 - 37ms/epoch - 12ms/step\n",
            "Epoch 32/100\n",
            "3/3 - 0s - loss: 0.0038 - val_loss: 0.0174 - 62ms/epoch - 21ms/step\n",
            "Epoch 33/100\n",
            "3/3 - 0s - loss: 0.0038 - val_loss: 0.0172 - 39ms/epoch - 13ms/step\n",
            "Epoch 34/100\n",
            "3/3 - 0s - loss: 0.0037 - val_loss: 0.0170 - 39ms/epoch - 13ms/step\n",
            "Epoch 35/100\n",
            "3/3 - 0s - loss: 0.0036 - val_loss: 0.0168 - 40ms/epoch - 13ms/step\n",
            "Epoch 36/100\n",
            "3/3 - 0s - loss: 0.0036 - val_loss: 0.0167 - 40ms/epoch - 13ms/step\n",
            "Epoch 37/100\n",
            "3/3 - 0s - loss: 0.0035 - val_loss: 0.0167 - 41ms/epoch - 14ms/step\n",
            "Epoch 38/100\n",
            "3/3 - 0s - loss: 0.0035 - val_loss: 0.0167 - 38ms/epoch - 13ms/step\n",
            "Epoch 39/100\n",
            "3/3 - 0s - loss: 0.0034 - val_loss: 0.0165 - 39ms/epoch - 13ms/step\n",
            "Epoch 40/100\n",
            "3/3 - 0s - loss: 0.0034 - val_loss: 0.0163 - 38ms/epoch - 13ms/step\n",
            "Epoch 41/100\n",
            "3/3 - 0s - loss: 0.0033 - val_loss: 0.0163 - 44ms/epoch - 15ms/step\n",
            "Epoch 42/100\n",
            "3/3 - 0s - loss: 0.0033 - val_loss: 0.0160 - 41ms/epoch - 14ms/step\n",
            "Epoch 43/100\n",
            "3/3 - 0s - loss: 0.0033 - val_loss: 0.0157 - 38ms/epoch - 13ms/step\n",
            "Epoch 44/100\n",
            "3/3 - 0s - loss: 0.0032 - val_loss: 0.0156 - 38ms/epoch - 13ms/step\n",
            "Epoch 45/100\n",
            "3/3 - 0s - loss: 0.0032 - val_loss: 0.0151 - 36ms/epoch - 12ms/step\n",
            "Epoch 46/100\n",
            "3/3 - 0s - loss: 0.0031 - val_loss: 0.0150 - 55ms/epoch - 18ms/step\n",
            "Epoch 47/100\n",
            "3/3 - 0s - loss: 0.0031 - val_loss: 0.0150 - 54ms/epoch - 18ms/step\n",
            "Epoch 48/100\n",
            "3/3 - 0s - loss: 0.0030 - val_loss: 0.0151 - 38ms/epoch - 13ms/step\n",
            "Epoch 49/100\n",
            "3/3 - 0s - loss: 0.0030 - val_loss: 0.0150 - 38ms/epoch - 13ms/step\n",
            "Epoch 50/100\n",
            "3/3 - 0s - loss: 0.0030 - val_loss: 0.0145 - 37ms/epoch - 12ms/step\n",
            "Epoch 51/100\n",
            "3/3 - 0s - loss: 0.0029 - val_loss: 0.0144 - 39ms/epoch - 13ms/step\n",
            "Epoch 52/100\n",
            "3/3 - 0s - loss: 0.0029 - val_loss: 0.0143 - 40ms/epoch - 13ms/step\n",
            "Epoch 53/100\n",
            "3/3 - 0s - loss: 0.0028 - val_loss: 0.0144 - 40ms/epoch - 13ms/step\n",
            "Epoch 54/100\n",
            "3/3 - 0s - loss: 0.0028 - val_loss: 0.0142 - 37ms/epoch - 12ms/step\n",
            "Epoch 55/100\n",
            "3/3 - 0s - loss: 0.0028 - val_loss: 0.0143 - 65ms/epoch - 22ms/step\n",
            "Epoch 56/100\n",
            "3/3 - 0s - loss: 0.0027 - val_loss: 0.0138 - 38ms/epoch - 13ms/step\n",
            "Epoch 57/100\n",
            "3/3 - 0s - loss: 0.0027 - val_loss: 0.0132 - 38ms/epoch - 13ms/step\n",
            "Epoch 58/100\n",
            "3/3 - 0s - loss: 0.0026 - val_loss: 0.0132 - 39ms/epoch - 13ms/step\n",
            "Epoch 59/100\n",
            "3/3 - 0s - loss: 0.0026 - val_loss: 0.0132 - 39ms/epoch - 13ms/step\n",
            "Epoch 60/100\n",
            "3/3 - 0s - loss: 0.0026 - val_loss: 0.0134 - 43ms/epoch - 14ms/step\n",
            "Epoch 61/100\n",
            "3/3 - 0s - loss: 0.0026 - val_loss: 0.0134 - 37ms/epoch - 12ms/step\n",
            "Epoch 62/100\n",
            "3/3 - 0s - loss: 0.0025 - val_loss: 0.0128 - 36ms/epoch - 12ms/step\n",
            "Epoch 63/100\n",
            "3/3 - 0s - loss: 0.0025 - val_loss: 0.0120 - 37ms/epoch - 12ms/step\n",
            "Epoch 64/100\n",
            "3/3 - 0s - loss: 0.0024 - val_loss: 0.0122 - 37ms/epoch - 12ms/step\n",
            "Epoch 65/100\n",
            "3/3 - 0s - loss: 0.0024 - val_loss: 0.0132 - 38ms/epoch - 13ms/step\n",
            "Epoch 66/100\n",
            "3/3 - 0s - loss: 0.0024 - val_loss: 0.0134 - 37ms/epoch - 12ms/step\n",
            "Epoch 67/100\n",
            "3/3 - 0s - loss: 0.0023 - val_loss: 0.0130 - 36ms/epoch - 12ms/step\n",
            "Epoch 68/100\n",
            "3/3 - 0s - loss: 0.0023 - val_loss: 0.0124 - 41ms/epoch - 14ms/step\n",
            "Epoch 69/100\n",
            "3/3 - 0s - loss: 0.0023 - val_loss: 0.0121 - 47ms/epoch - 16ms/step\n",
            "Epoch 70/100\n",
            "3/3 - 0s - loss: 0.0023 - val_loss: 0.0115 - 39ms/epoch - 13ms/step\n",
            "Epoch 71/100\n",
            "3/3 - 0s - loss: 0.0023 - val_loss: 0.0122 - 38ms/epoch - 13ms/step\n",
            "Epoch 72/100\n",
            "3/3 - 0s - loss: 0.0022 - val_loss: 0.0128 - 42ms/epoch - 14ms/step\n",
            "Epoch 73/100\n",
            "3/3 - 0s - loss: 0.0022 - val_loss: 0.0125 - 39ms/epoch - 13ms/step\n",
            "Epoch 74/100\n",
            "3/3 - 0s - loss: 0.0022 - val_loss: 0.0120 - 38ms/epoch - 13ms/step\n",
            "Epoch 75/100\n",
            "3/3 - 0s - loss: 0.0022 - val_loss: 0.0118 - 40ms/epoch - 13ms/step\n",
            "Epoch 76/100\n",
            "3/3 - 0s - loss: 0.0021 - val_loss: 0.0127 - 37ms/epoch - 12ms/step\n",
            "Epoch 77/100\n",
            "3/3 - 0s - loss: 0.0021 - val_loss: 0.0132 - 40ms/epoch - 13ms/step\n",
            "Epoch 78/100\n",
            "3/3 - 0s - loss: 0.0021 - val_loss: 0.0121 - 46ms/epoch - 15ms/step\n",
            "Epoch 79/100\n",
            "3/3 - 0s - loss: 0.0021 - val_loss: 0.0117 - 39ms/epoch - 13ms/step\n",
            "Epoch 80/100\n",
            "3/3 - 0s - loss: 0.0020 - val_loss: 0.0113 - 37ms/epoch - 12ms/step\n",
            "Epoch 81/100\n",
            "3/3 - 0s - loss: 0.0020 - val_loss: 0.0121 - 38ms/epoch - 13ms/step\n",
            "Epoch 82/100\n",
            "3/3 - 0s - loss: 0.0020 - val_loss: 0.0123 - 38ms/epoch - 13ms/step\n",
            "Epoch 83/100\n",
            "3/3 - 0s - loss: 0.0020 - val_loss: 0.0121 - 39ms/epoch - 13ms/step\n",
            "Epoch 84/100\n",
            "3/3 - 0s - loss: 0.0020 - val_loss: 0.0111 - 40ms/epoch - 13ms/step\n",
            "Epoch 85/100\n",
            "3/3 - 0s - loss: 0.0019 - val_loss: 0.0112 - 41ms/epoch - 14ms/step\n",
            "Epoch 86/100\n",
            "3/3 - 0s - loss: 0.0019 - val_loss: 0.0117 - 37ms/epoch - 12ms/step\n",
            "Epoch 87/100\n",
            "3/3 - 0s - loss: 0.0019 - val_loss: 0.0114 - 37ms/epoch - 12ms/step\n",
            "Epoch 88/100\n",
            "3/3 - 0s - loss: 0.0019 - val_loss: 0.0110 - 37ms/epoch - 12ms/step\n",
            "Epoch 89/100\n",
            "3/3 - 0s - loss: 0.0019 - val_loss: 0.0114 - 52ms/epoch - 17ms/step\n",
            "Epoch 90/100\n",
            "3/3 - 0s - loss: 0.0018 - val_loss: 0.0109 - 37ms/epoch - 12ms/step\n",
            "Epoch 91/100\n",
            "3/3 - 0s - loss: 0.0018 - val_loss: 0.0103 - 39ms/epoch - 13ms/step\n",
            "Epoch 92/100\n",
            "3/3 - 0s - loss: 0.0018 - val_loss: 0.0100 - 39ms/epoch - 13ms/step\n",
            "Epoch 93/100\n",
            "3/3 - 0s - loss: 0.0018 - val_loss: 0.0104 - 40ms/epoch - 13ms/step\n",
            "Epoch 94/100\n",
            "3/3 - 0s - loss: 0.0018 - val_loss: 0.0105 - 37ms/epoch - 12ms/step\n",
            "Epoch 95/100\n",
            "3/3 - 0s - loss: 0.0018 - val_loss: 0.0111 - 41ms/epoch - 14ms/step\n",
            "Epoch 96/100\n",
            "3/3 - 0s - loss: 0.0018 - val_loss: 0.0113 - 39ms/epoch - 13ms/step\n",
            "Epoch 97/100\n",
            "3/3 - 0s - loss: 0.0018 - val_loss: 0.0103 - 38ms/epoch - 13ms/step\n",
            "Epoch 98/100\n",
            "3/3 - 0s - loss: 0.0017 - val_loss: 0.0102 - 38ms/epoch - 13ms/step\n",
            "Epoch 99/100\n",
            "3/3 - 0s - loss: 0.0017 - val_loss: 0.0108 - 37ms/epoch - 12ms/step\n",
            "Epoch 100/100\n",
            "3/3 - 0s - loss: 0.0017 - val_loss: 0.0108 - 38ms/epoch - 13ms/step\n"
          ]
        },
        {
          "output_type": "execute_result",
          "data": {
            "text/plain": [
              "<keras.callbacks.History at 0x7f28d316f040>"
            ]
          },
          "metadata": {},
          "execution_count": 14
        }
      ]
    },
    {
      "cell_type": "markdown",
      "source": [
        "# Make predictions"
      ],
      "metadata": {
        "id": "QtkVDV266adu"
      }
    },
    {
      "cell_type": "code",
      "source": [
        "# make predictions"
      ],
      "metadata": {
        "id": "9Q1F9EE96WLk"
      },
      "execution_count": null,
      "outputs": []
    },
    {
      "cell_type": "code",
      "source": [
        "trainPredict = model.predict(trainX)\n",
        "testPredict = model.predict(testX)"
      ],
      "metadata": {
        "colab": {
          "base_uri": "https://localhost:8080/"
        },
        "id": "LsAu9ZcI6WHs",
        "outputId": "eea640a6-ded0-4fb3-a394-6c9d47719c18"
      },
      "execution_count": 15,
      "outputs": [
        {
          "output_type": "stream",
          "name": "stdout",
          "text": [
            "3/3 [==============================] - 0s 4ms/step\n",
            "2/2 [==============================] - 0s 4ms/step\n"
          ]
        }
      ]
    },
    {
      "cell_type": "markdown",
      "source": [
        "##### invert predictions back to prescaled values\n",
        "#####This is to compare with original input values\n",
        "#####SInce we used minmaxscaler we can now use scaler.inverse_transform\n",
        "#####to invert the transformation"
      ],
      "metadata": {
        "id": "XYroKTFY7COb"
      }
    },
    {
      "cell_type": "code",
      "source": [
        "trainPredict = scaler.inverse_transform(trainPredict)\n",
        "trainY = scaler.inverse_transform([trainY])\n",
        "testPredict = scaler.inverse_transform(testPredict)\n",
        "testY = scaler.inverse_transform([testY])"
      ],
      "metadata": {
        "id": "v4corZ2f6WES"
      },
      "execution_count": 16,
      "outputs": []
    },
    {
      "cell_type": "code",
      "source": [
        "# calculate root mean squared error\n",
        "trainScore = math.sqrt(mean_squared_error(trainY[0], trainPredict[:,0]))\n",
        "print('Train Score: %.2f RMSE' % (trainScore))"
      ],
      "metadata": {
        "colab": {
          "base_uri": "https://localhost:8080/"
        },
        "id": "wUvMskte6WBA",
        "outputId": "6f4b3bc1-074d-4aee-f412-74b1b5d12ff6"
      },
      "execution_count": 17,
      "outputs": [
        {
          "output_type": "stream",
          "name": "stdout",
          "text": [
            "Train Score: 21.25 RMSE\n"
          ]
        }
      ]
    },
    {
      "cell_type": "code",
      "source": [
        "testScore = math.sqrt(mean_squared_error(testY[0], testPredict[:,0]))\n",
        "print('Test Score: %.2f RMSE' % (testScore))"
      ],
      "metadata": {
        "colab": {
          "base_uri": "https://localhost:8080/"
        },
        "id": "bT2LtMCI7mIa",
        "outputId": "cf477793-4a69-44c2-9125-9eb8ec3ac7d2"
      },
      "execution_count": 18,
      "outputs": [
        {
          "output_type": "stream",
          "name": "stdout",
          "text": [
            "Test Score: 53.92 RMSE\n"
          ]
        }
      ]
    },
    {
      "cell_type": "code",
      "source": [
        "#shift train predictions for plotting\n",
        "#we must shift the predictions so that they align on the x-axis with the original dataset. \n",
        "trainPredictPlot = np.empty_like(dataset)\n",
        "trainPredictPlot[:, :] = np.nan\n",
        "trainPredictPlot[seq_size:len(trainPredict)+seq_size, :] = trainPredict"
      ],
      "metadata": {
        "id": "sfceuTxP7mFU"
      },
      "execution_count": 19,
      "outputs": []
    },
    {
      "cell_type": "code",
      "source": [
        "#shift test predictions for plotting\n",
        "testPredictPlot = np.empty_like(dataset)\n",
        "testPredictPlot[:, :] = np.nan\n",
        "testPredictPlot[len(trainPredict)+(seq_size*2)+1:len(dataset)-1, :] = testPredict"
      ],
      "metadata": {
        "id": "jAy5yAUr7mCX"
      },
      "execution_count": 20,
      "outputs": []
    },
    {
      "cell_type": "code",
      "source": [
        "# plot baseline and predictions\n",
        "plt.plot(scaler.inverse_transform(dataset))\n",
        "plt.plot(trainPredictPlot)\n",
        "plt.plot(testPredictPlot)\n",
        "plt.show()"
      ],
      "metadata": {
        "colab": {
          "base_uri": "https://localhost:8080/",
          "height": 265
        },
        "id": "b0bDyOYZ7l_C",
        "outputId": "de39d1ed-d936-42de-9115-8a04d92b648b"
      },
      "execution_count": 21,
      "outputs": [
        {
          "output_type": "display_data",
          "data": {
            "text/plain": [
              "<Figure size 432x288 with 1 Axes>"
            ],
            "image/png": "[encoded data removed]"
          },
          "metadata": {
            "needs_background": "light"
          }
        }
      ]
    },
    {
      "cell_type": "code",
      "source": [],
      "metadata": {
        "id": "sWIeJyOs7l7S"
      },
      "execution_count": null,
      "outputs": []
    }
  ]
}